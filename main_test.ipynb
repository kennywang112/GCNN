{
 "cells": [
  {
   "cell_type": "code",
   "execution_count": 1,
   "id": "68255679-c372-4ffc-a12b-e4b65248873e",
   "metadata": {},
   "outputs": [
    {
     "name": "stdout",
     "output_type": "stream",
     "text": [
      "Using device: cuda\n"
     ]
    }
   ],
   "source": [
    "import numpy as np\n",
    "import os\n",
    "import torch\n",
    "from model import *\n",
    "from torch_geometric.data import Data, DataLoader\n",
    "from scipy.sparse import coo_matrix\n",
    "from utils import *\n",
    "from torch.utils.data import random_split\n",
    "import random\n",
    "from torch_geometric.loader import DataLoader as GeoDataLoader\n",
    "\n",
    "device = torch.device(\"cuda\" if torch.cuda.is_available() else \"mps\" if torch.backends.mps.is_available() else \"cpu\")\n",
    "print(f'Using device: {device}')"
   ]
  },
  {
   "cell_type": "markdown",
   "id": "47a2247c-d8f7-4c03-9b3a-a0e447f30313",
   "metadata": {},
   "source": [
    "## Count images without adjacencies"
   ]
  },
  {
   "cell_type": "code",
   "execution_count": 2,
   "id": "1f422c76-fdac-4ba9-822a-8dd8d5668749",
   "metadata": {},
   "outputs": [
    {
     "name": "stdout",
     "output_type": "stream",
     "text": [
      "Image data lengths:\n",
      "{'1': 1290, '2': 281, '3': 717, '4': 4772, '5': 1982, '6': 705, '7': 2524}\n",
      "Adjacency data lengths:\n",
      "{'adjacency_1': 1165, 'adjacency_2': 241, 'adjacency_3': 256, 'adjacency_4': 1915, 'adjacency_5': 664, 'adjacency_6': 524, 'adjacency_7': 2127}\n"
     ]
    }
   ],
   "source": [
    "def count_valid_files(directory):\n",
    "    return sum(1 for filename in os.listdir(directory) if not filename.startswith('.') and os.path.isfile(os.path.join(directory, filename)))\n",
    "\n",
    "image_data_dir = './Image_data/DATASET/train'\n",
    "image_lengths = {subdir: count_valid_files(os.path.join(image_data_dir, subdir)) for subdir in os.listdir(image_data_dir) if not subdir.startswith('.') and os.path.isdir(os.path.join(image_data_dir, subdir))}\n",
    "\n",
    "adjacency_dir = './output_data/adjacency'\n",
    "adjacency_lengths = {subdir: count_valid_files(os.path.join(adjacency_dir, subdir)) for subdir in os.listdir(adjacency_dir) if not subdir.startswith('.') and os.path.isdir(os.path.join(adjacency_dir, subdir))}\n",
    "\n",
    "print(\"Image data lengths:\")\n",
    "print(image_lengths)\n",
    "\n",
    "print(\"Adjacency data lengths:\")\n",
    "print(adjacency_lengths)"
   ]
  },
  {
   "cell_type": "markdown",
   "id": "49f6593f-0eca-4ff4-bde2-beb7d23096ce",
   "metadata": {},
   "source": [
    "## label setting"
   ]
  },
  {
   "cell_type": "code",
   "execution_count": 3,
   "id": "8f8a9905-4a05-4491-9e5a-08e4e31c8d81",
   "metadata": {
    "tags": []
   },
   "outputs": [],
   "source": [
    "# Set directory paths\n",
    "dir_1 = './output_data/adjacency/adjacency_1'\n",
    "dir_2 = './output_data/adjacency/adjacency_2'\n",
    "dir_3 = './output_data/adjacency/adjacency_3'\n",
    "dir_4 = './output_data/adjacency/adjacency_4'\n",
    "dir_5 = './output_data/adjacency/adjacency_5'\n",
    "dir_6 = './output_data/adjacency/adjacency_6'\n",
    "dir_7 = './output_data/adjacency/adjacency_7'\n",
    "\n",
    "image_dir = './Image_data/DATASET/train'\n",
    "\n",
    "dir_label_map = {\n",
    "    '1': (dir_1, 0),\n",
    "    '2': (dir_2, 1),\n",
    "    '3': (dir_3, 2),\n",
    "    '4': (dir_4, 2),\n",
    "    '5': (dir_5, 1),\n",
    "    '6': (dir_6, 2),\n",
    "    '7': (dir_7, 2),\n",
    "}\n",
    "\n",
    "data_dict = {str(i): [] for i in range(1, 8)}\n",
    "num_node_features = 21\n",
    "\n",
    "def process_files(directory, label, image_dir, data_dict, key):\n",
    "    adjacency_files = set(f.replace('adjacency_matrix_', '').replace('.jpg.csv', '') for f in os.listdir(directory) if f.endswith('.csv'))\n",
    "    image_files = set(f.replace('.jpg', '') for f in os.listdir(os.path.join(image_dir, key)) if f.endswith('.jpg'))\n",
    "\n",
    "    # Image with no adj unique_id\n",
    "    missing_adj = image_files - adjacency_files\n",
    "    \n",
    "    for unique_id in image_files:\n",
    "        image_path = os.path.join(image_dir, key, f'{unique_id}.jpg')\n",
    "        file_path = os.path.join(directory, f'adjacency_matrix_{unique_id}.jpg.csv')\n",
    "\n",
    "        if unique_id in missing_adj:\n",
    "            # No adj, use CNN only\n",
    "            image_data = process_image(image_path)\n",
    "            \n",
    "            # for handling model error\n",
    "            placeholder_x = torch.zeros(1, num_node_features)\n",
    "            placeholder_index = torch.empty((2, 0), dtype=torch.long)\n",
    "            placeholder_weight = torch.empty((0,), dtype=torch.float)\n",
    "            \n",
    "            data = Data(x=placeholder_x, edge_index=placeholder_index, edge_weight=placeholder_weight, image_features=image_data)\n",
    "            data.y = torch.tensor([label])\n",
    "            data_dict[key].append(data)\n",
    "            \n",
    "        elif os.path.exists(file_path) and os.path.exists(image_path):\n",
    "            # Image with adjacency matrix\n",
    "            data = process_adj_matrix(file_path, image_path)\n",
    "            data.y = torch.tensor([label])\n",
    "            data_dict[key].append(data)\n",
    "            \n",
    "        else:\n",
    "            print(f\"Unexpected missing file for {unique_id}\")\n",
    "            \n",
    "for key, (directory, label) in dir_label_map.items():\n",
    "    process_files(directory, label, image_dir, data_dict, key)"
   ]
  },
  {
   "cell_type": "code",
   "execution_count": 4,
   "id": "548955e8-b5d2-44cf-bd80-28ec6d2333f7",
   "metadata": {},
   "outputs": [
    {
     "name": "stdout",
     "output_type": "stream",
     "text": [
      "Image data lengths:\n",
      "{'1': 1290, '2': 281, '3': 717, '4': 4772, '5': 1982, '6': 705, '7': 2524}\n",
      "Processed data\n",
      "[1290, 281, 717, 4772, 1982, 705, 2524]\n"
     ]
    }
   ],
   "source": [
    "print(\"Image data lengths:\")\n",
    "print(image_lengths)\n",
    "print(\"Processed data\")\n",
    "print([len(data_dict[f'{i}']) for i in range(1, 8)])"
   ]
  },
  {
   "cell_type": "markdown",
   "id": "386ac29f-b5ac-4644-922c-35e17e60a0e0",
   "metadata": {},
   "source": [
    "## Test the model propogationdata_dict"
   ]
  },
  {
   "cell_type": "code",
   "execution_count": 5,
   "id": "350d10e3-7f87-4ddc-9577-02ce4fde0f20",
   "metadata": {
    "tags": []
   },
   "outputs": [
    {
     "name": "stdout",
     "output_type": "stream",
     "text": [
      "empty\n",
      "not empty\n"
     ]
    }
   ],
   "source": [
    "# Without adj data\n",
    "\n",
    "edge_weight = torch.empty(0)\n",
    "edge_index = torch.empty(2, 0, dtype=torch.long)\n",
    "\n",
    "if edge_index is not None and edge_weight is not None and edge_weight.numel() > 0:\n",
    "    # GCN component\n",
    "    print('not empty')\n",
    "else:\n",
    "    print('empty')\n",
    "\n",
    "# with adj data\n",
    "\n",
    "edge_weight = data_dict['1'][0].edge_weight\n",
    "edge_index = data_dict['1'][0].edge_index\n",
    "if edge_index is not None and edge_weight is not None and edge_weight.numel() > 0:\n",
    "    # GCN component\n",
    "    print('not empty')\n",
    "else:\n",
    "    print('empty')"
   ]
  },
  {
   "cell_type": "code",
   "execution_count": 6,
   "id": "785ac06d-37e2-4945-881e-1b5fbe074098",
   "metadata": {},
   "outputs": [
    {
     "name": "stderr",
     "output_type": "stream",
     "text": [
      "C:\\Users\\USER\\anaconda3\\lib\\site-packages\\torchvision\\models\\_utils.py:208: UserWarning: The parameter 'pretrained' is deprecated since 0.13 and may be removed in the future, please use 'weights' instead.\n",
      "  warnings.warn(\n",
      "C:\\Users\\USER\\anaconda3\\lib\\site-packages\\torchvision\\models\\_utils.py:223: UserWarning: Arguments other than a weight enum or `None` for 'weights' are deprecated since 0.13 and may be removed in the future. The current behavior is equivalent to passing `weights=AlexNet_Weights.IMAGENET1K_V1`. You can also use `weights=AlexNet_Weights.DEFAULT` to get the most up-to-date weights.\n",
      "  warnings.warn(msg)\n"
     ]
    }
   ],
   "source": [
    "data_list = data_dict['1'] + data_dict['2'] + data_dict['3'] + data_dict['4'] + data_dict['5'] + data_dict['6'] + data_dict['7']\n",
    "\n",
    "batch_size = 64\n",
    "\n",
    "total_size = len(data_list)\n",
    "train_size = int(0.8 * total_size)\n",
    "val_size = total_size - train_size\n",
    "\n",
    "train_data, val_data = random_split(data_list, [train_size, val_size])\n",
    "\n",
    "# Step 2: Create DataLoader for training and validation\n",
    "train_loader = GeoDataLoader(train_data, batch_size=batch_size, shuffle=True)\n",
    "val_loader = GeoDataLoader(val_data, batch_size=batch_size, shuffle=False)\n",
    "\n",
    "# Step 3: Model setup\n",
    "# Some of the datas don't have adj matrix\n",
    "num_node_features = next(data.x.shape[1] for data in data_list if data.x is not None)\n",
    "\n",
    "hidden_channels = 64\n",
    "\n",
    "model = Net_Alex(num_node_features, hidden_channels).to(device)\n",
    "criterion = nn.CrossEntropyLoss()\n",
    "optimizer = torch.optim.Adam(model.parameters(), lr=0.001)\n",
    "\n",
    "num_epochs = 20"
   ]
  },
  {
   "cell_type": "code",
   "execution_count": 7,
   "id": "54cd2d6a-82fe-4499-a3a2-c1ea185ffae4",
   "metadata": {},
   "outputs": [
    {
     "name": "stdout",
     "output_type": "stream",
     "text": [
      "Epoch 1/20, Train Loss: 0.8129, Train Acc: 0.7088, Val Loss: 0.7665, Val Acc: 0.7051\n",
      "Epoch 2/20, Train Loss: 0.7597, Train Acc: 0.7118, Val Loss: 0.7660, Val Acc: 0.7051\n",
      "Epoch 3/20, Train Loss: 0.7568, Train Acc: 0.7118, Val Loss: 0.7802, Val Acc: 0.7051\n",
      "Epoch 4/20, Train Loss: 0.7555, Train Acc: 0.7118, Val Loss: 0.7642, Val Acc: 0.7051\n",
      "Epoch 5/20, Train Loss: 0.7552, Train Acc: 0.7118, Val Loss: 0.7696, Val Acc: 0.7051\n",
      "Epoch 6/20, Train Loss: 0.7567, Train Acc: 0.7118, Val Loss: 0.7644, Val Acc: 0.7051\n",
      "Epoch 7/20, Train Loss: 0.7546, Train Acc: 0.7118, Val Loss: 0.7660, Val Acc: 0.7051\n",
      "Epoch 8/20, Train Loss: 0.7547, Train Acc: 0.7118, Val Loss: 0.7648, Val Acc: 0.7051\n",
      "Epoch 9/20, Train Loss: 0.7546, Train Acc: 0.7118, Val Loss: 0.7644, Val Acc: 0.7051\n",
      "Epoch 10/20, Train Loss: 0.7529, Train Acc: 0.7118, Val Loss: 0.7641, Val Acc: 0.7051\n",
      "Epoch 11/20, Train Loss: 0.7529, Train Acc: 0.7118, Val Loss: 0.7662, Val Acc: 0.7051\n",
      "Epoch 12/20, Train Loss: 0.7537, Train Acc: 0.7118, Val Loss: 0.7645, Val Acc: 0.7051\n",
      "Epoch 13/20, Train Loss: 0.7532, Train Acc: 0.7118, Val Loss: 0.7646, Val Acc: 0.7051\n",
      "Epoch 14/20, Train Loss: 0.7530, Train Acc: 0.7118, Val Loss: 0.7678, Val Acc: 0.7051\n",
      "Epoch 15/20, Train Loss: 0.7543, Train Acc: 0.7118, Val Loss: 0.7651, Val Acc: 0.7051\n",
      "Epoch 16/20, Train Loss: 0.7527, Train Acc: 0.7118, Val Loss: 0.7685, Val Acc: 0.7051\n",
      "Epoch 17/20, Train Loss: 0.7511, Train Acc: 0.7118, Val Loss: 0.7640, Val Acc: 0.7051\n",
      "Epoch 18/20, Train Loss: 0.7517, Train Acc: 0.7118, Val Loss: 0.7647, Val Acc: 0.7051\n",
      "Epoch 19/20, Train Loss: 0.7511, Train Acc: 0.7118, Val Loss: 0.7665, Val Acc: 0.7051\n",
      "Epoch 20/20, Train Loss: 0.7528, Train Acc: 0.7118, Val Loss: 0.7695, Val Acc: 0.7051\n"
     ]
    }
   ],
   "source": [
    "for epoch in range(1, num_epochs + 1):\n",
    "    # Initialize epoch tracking variables\n",
    "    model.train()\n",
    "    total_loss = 0\n",
    "    correct = 0\n",
    "\n",
    "    # Training phase\n",
    "    for batch in train_loader:\n",
    "        batch = batch.to(device)\n",
    "\n",
    "        x = batch.x\n",
    "        edge_index = batch.edge_index\n",
    "        edge_weight = batch.edge_weight\n",
    "        image_features = batch.image_features\n",
    "        batch_y = batch.y\n",
    "\n",
    "        optimizer.zero_grad()\n",
    "        \n",
    "        out = model(x, edge_index, edge_weight, batch.batch, image_features)\n",
    "        loss = criterion(out, batch_y)\n",
    "        loss.backward()\n",
    "        optimizer.step()\n",
    "        total_loss += loss.item()\n",
    "\n",
    "        _, pred = out.max(dim=1)\n",
    "        correct += (pred == batch_y).sum().item()\n",
    "\n",
    "    train_loss = total_loss / len(train_loader)\n",
    "    train_accuracy = correct / len(train_data)\n",
    "\n",
    "    # Validation phase\n",
    "    model.eval()\n",
    "    val_loss = 0\n",
    "    val_correct = 0\n",
    "    with torch.no_grad():\n",
    "        for batch in val_loader:\n",
    "            batch = batch.to(device)\n",
    "\n",
    "            x = batch.x\n",
    "            edge_index = batch.edge_index\n",
    "            edge_weight = batch.edge_weight\n",
    "            image_features = batch.image_features\n",
    "            batch_y = batch.y\n",
    "\n",
    "            out = model(x, edge_index, edge_weight, batch.batch, image_features)\n",
    "            loss = criterion(out,  batch_y)\n",
    "            val_loss += loss.item()\n",
    "\n",
    "            _, pred = out.max(dim=1)\n",
    "            val_correct += (pred == batch_y).sum().item()\n",
    "\n",
    "    avg_val_loss = val_loss / len(val_loader)\n",
    "    val_accuracy = val_correct / len(val_data)\n",
    "\n",
    "    # Logging results for each epoch\n",
    "    print(f'Epoch {epoch}/{num_epochs}, Train Loss: {train_loss:.4f}, Train Acc: {train_accuracy:.4f}, '\n",
    "          f'Val Loss: {avg_val_loss:.4f}, Val Acc: {val_accuracy:.4f}')"
   ]
  }
 ],
 "metadata": {
  "kernelspec": {
   "display_name": "Python 3 (ipykernel)",
   "language": "python",
   "name": "python3"
  },
  "language_info": {
   "codemirror_mode": {
    "name": "ipython",
    "version": 3
   },
   "file_extension": ".py",
   "mimetype": "text/x-python",
   "name": "python",
   "nbconvert_exporter": "python",
   "pygments_lexer": "ipython3",
   "version": "3.9.12"
  }
 },
 "nbformat": 4,
 "nbformat_minor": 5
}
