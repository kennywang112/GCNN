{
 "cells": [
  {
   "cell_type": "code",
   "execution_count": 1,
   "id": "68255679-c372-4ffc-a12b-e4b65248873e",
   "metadata": {},
   "outputs": [
    {
     "name": "stdout",
     "output_type": "stream",
     "text": [
      "Using device: mps\n"
     ]
    }
   ],
   "source": [
    "import os\n",
    "import torch\n",
    "import random\n",
    "import numpy as np\n",
    "import seaborn as sns\n",
    "import matplotlib.pyplot as plt\n",
    "from scipy.sparse import coo_matrix\n",
    "from torch.utils.data import random_split\n",
    "from sklearn.metrics import confusion_matrix\n",
    "from torch_geometric.data import Data, DataLoader\n",
    "from torch_geometric.loader import DataLoader as GeoDataLoader\n",
    "from sklearn.utils.class_weight import compute_class_weight\n",
    "\n",
    "from model import *\n",
    "from utils import *\n",
    "\n",
    "device = torch.device(\"cuda\" if torch.cuda.is_available() else \"mps\" if torch.backends.mps.is_available() else \"cpu\")\n",
    "print(f'Using device: {device}')"
   ]
  },
  {
   "cell_type": "markdown",
   "id": "47a2247c-d8f7-4c03-9b3a-a0e447f30313",
   "metadata": {},
   "source": [
    "## Count images without adjacencies"
   ]
  },
  {
   "cell_type": "code",
   "execution_count": 2,
   "id": "1f422c76-fdac-4ba9-822a-8dd8d5668749",
   "metadata": {},
   "outputs": [
    {
     "name": "stdout",
     "output_type": "stream",
     "text": [
      "Image data lengths:\n",
      "{'7': 2524, '6': 705, '1': 1290, '4': 4772, '3': 717, '2': 281, '5': 1982}\n",
      "Adjacency data lengths:\n",
      "{'adjacency_2': 241, 'adjacency_5': 664, 'adjacency_4': 1915, 'adjacency_3': 256, 'adjacency_6': 524, 'adjacency_1': 1165, 'adjacency_7': 2127}\n"
     ]
    }
   ],
   "source": [
    "def count_valid_files(directory):\n",
    "    return sum(1 for filename in os.listdir(directory) if not filename.startswith('.') and os.path.isfile(os.path.join(directory, filename)))\n",
    "\n",
    "image_data_dir = './DATASET/train'\n",
    "image_lengths = {subdir: count_valid_files(os.path.join(image_data_dir, subdir)) for subdir in os.listdir(image_data_dir) if not subdir.startswith('.') and os.path.isdir(os.path.join(image_data_dir, subdir))}\n",
    "\n",
    "adjacency_dir = './output_data/adjacency_kenny'\n",
    "adjacency_lengths = {subdir: count_valid_files(os.path.join(adjacency_dir, subdir)) for subdir in os.listdir(adjacency_dir) if not subdir.startswith('.') and os.path.isdir(os.path.join(adjacency_dir, subdir))}\n",
    "\n",
    "print(\"Image data lengths:\")\n",
    "print(image_lengths)\n",
    "\n",
    "print(\"Adjacency data lengths:\")\n",
    "print(adjacency_lengths)"
   ]
  },
  {
   "cell_type": "markdown",
   "id": "49f6593f-0eca-4ff4-bde2-beb7d23096ce",
   "metadata": {},
   "source": [
    "## label setting"
   ]
  },
  {
   "cell_type": "code",
   "execution_count": 3,
   "id": "8f8a9905-4a05-4491-9e5a-08e4e31c8d81",
   "metadata": {
    "tags": []
   },
   "outputs": [],
   "source": [
    "# Set directory paths\n",
    "dir_1 = './output_data/adjacency_kenny/adjacency_1'\n",
    "dir_2 = './output_data/adjacency_kenny/adjacency_2'\n",
    "dir_3 = './output_data/adjacency_kenny/adjacency_3'\n",
    "dir_4 = './output_data/adjacency_kenny/adjacency_4'\n",
    "dir_5 = './output_data/adjacency_kenny/adjacency_5'\n",
    "dir_6 = './output_data/adjacency_kenny/adjacency_6'\n",
    "dir_7 = './output_data/adjacency_kenny/adjacency_7'\n",
    "\n",
    "image_dir = './DATASET/train'\n",
    "\n",
    "dir_label_map = {\n",
    "    '1': (dir_1, 0),\n",
    "    '2': (dir_2, 1),\n",
    "    '3': (dir_3, 2),\n",
    "    '4': (dir_4, 3),\n",
    "    '5': (dir_5, 4),\n",
    "    '6': (dir_6, 5),\n",
    "    '7': (dir_7, 6),\n",
    "}\n",
    "\n",
    "data_dict = {str(i): [] for i in range(1, 8)}\n",
    "num_node_features = 21\n",
    "\n",
    "def process_files(directory, label, image_dir, data_dict, key):\n",
    "    adjacency_files = set(f.replace('adjacency_matrix_', '').replace('.jpg.csv', '') for f in os.listdir(directory) if f.endswith('.csv'))\n",
    "    image_files = set(f.replace('.jpg', '') for f in os.listdir(os.path.join(image_dir, key)) if f.endswith('.jpg'))\n",
    "\n",
    "    # Image with no adj unique_id\n",
    "    missing_adj = image_files - adjacency_files\n",
    "    \n",
    "    for unique_id in image_files:\n",
    "        image_path = os.path.join(image_dir, key, f'{unique_id}.jpg')\n",
    "        file_path = os.path.join(directory, f'adjacency_matrix_{unique_id}.jpg.csv')\n",
    "\n",
    "        if unique_id in missing_adj:\n",
    "            # No adj, use CNN only\n",
    "            image_data = process_image(image_path)\n",
    "            \n",
    "            # for handling model error\n",
    "            placeholder_x = torch.zeros(1, num_node_features)\n",
    "            placeholder_index = torch.empty((2, 0), dtype=torch.long)\n",
    "            placeholder_weight = torch.empty((0,), dtype=torch.float)\n",
    "            \n",
    "            data = Data(x=placeholder_x, edge_index=placeholder_index, edge_weight=placeholder_weight, image_features=image_data)\n",
    "            data.y = torch.tensor([label])\n",
    "            data_dict[key].append(data)\n",
    "            \n",
    "        elif os.path.exists(file_path) and os.path.exists(image_path):\n",
    "            # Image with adjacency matrix\n",
    "            data = process_adj_matrix(file_path, image_path)\n",
    "            data.y = torch.tensor([label])\n",
    "            data_dict[key].append(data)\n",
    "            \n",
    "        else:\n",
    "            print(f\"Unexpected missing file for {unique_id}\")\n",
    "            \n",
    "for key, (directory, label) in dir_label_map.items():\n",
    "    process_files(directory, label, image_dir, data_dict, key)"
   ]
  },
  {
   "cell_type": "code",
   "execution_count": 4,
   "id": "548955e8-b5d2-44cf-bd80-28ec6d2333f7",
   "metadata": {},
   "outputs": [
    {
     "name": "stdout",
     "output_type": "stream",
     "text": [
      "Image data lengths:\n",
      "{'7': 2524, '6': 705, '1': 1290, '4': 4772, '3': 717, '2': 281, '5': 1982}\n",
      "Processed data\n",
      "[1290, 281, 717, 4772, 1982, 705, 2524]\n"
     ]
    }
   ],
   "source": [
    "print(\"Image data lengths:\")\n",
    "print(image_lengths)\n",
    "print(\"Processed data\")\n",
    "print([len(data_dict[f'{i}']) for i in range(1, 8)])"
   ]
  },
  {
   "cell_type": "markdown",
   "id": "386ac29f-b5ac-4644-922c-35e17e60a0e0",
   "metadata": {},
   "source": [
    "## Test the model propogationdata_dict"
   ]
  },
  {
   "cell_type": "code",
   "execution_count": 5,
   "id": "350d10e3-7f87-4ddc-9577-02ce4fde0f20",
   "metadata": {
    "tags": []
   },
   "outputs": [
    {
     "name": "stdout",
     "output_type": "stream",
     "text": [
      "empty\n",
      "not empty\n"
     ]
    }
   ],
   "source": [
    "# Without adj data\n",
    "\n",
    "edge_weight = torch.empty(0)\n",
    "edge_index = torch.empty(2, 0, dtype=torch.long)\n",
    "\n",
    "if edge_index is not None and edge_weight is not None and edge_weight.numel() > 0:\n",
    "    # GCN component\n",
    "    print('not empty')\n",
    "else:\n",
    "    print('empty')\n",
    "\n",
    "# with adj data\n",
    "\n",
    "edge_weight = data_dict['1'][0].edge_weight\n",
    "edge_index = data_dict['1'][0].edge_index\n",
    "if edge_index is not None and edge_weight is not None and edge_weight.numel() > 0:\n",
    "    # GCN component\n",
    "    print('not empty')\n",
    "else:\n",
    "    print('empty')"
   ]
  },
  {
   "cell_type": "code",
   "execution_count": 6,
   "id": "785ac06d-37e2-4945-881e-1b5fbe074098",
   "metadata": {},
   "outputs": [
    {
     "name": "stderr",
     "output_type": "stream",
     "text": [
      "/Library/Frameworks/Python.framework/Versions/3.11/lib/python3.11/site-packages/torchvision/models/_utils.py:208: UserWarning: The parameter 'pretrained' is deprecated since 0.13 and may be removed in the future, please use 'weights' instead.\n",
      "  warnings.warn(\n",
      "/Library/Frameworks/Python.framework/Versions/3.11/lib/python3.11/site-packages/torchvision/models/_utils.py:223: UserWarning: Arguments other than a weight enum or `None` for 'weights' are deprecated since 0.13 and may be removed in the future. The current behavior is equivalent to passing `weights=AlexNet_Weights.IMAGENET1K_V1`. You can also use `weights=AlexNet_Weights.DEFAULT` to get the most up-to-date weights.\n",
      "  warnings.warn(msg)\n"
     ]
    }
   ],
   "source": [
    "data_list = data_dict['1'] + data_dict['2'] + data_dict['3'] + data_dict['4'] + data_dict['5'] + data_dict['6'] + data_dict['7']\n",
    "\n",
    "batch_size = 64\n",
    "\n",
    "total_size = len(data_list)\n",
    "train_size = int(0.8 * total_size)\n",
    "val_size = total_size - train_size\n",
    "\n",
    "train_data, val_data = random_split(data_list, [train_size, val_size])\n",
    "\n",
    "# Step 2: Create DataLoader for training and validation\n",
    "train_loader = GeoDataLoader(train_data, batch_size=batch_size, shuffle=True)\n",
    "val_loader = GeoDataLoader(val_data, batch_size=batch_size, shuffle=False)\n",
    "\n",
    "# Step 3: Model setup\n",
    "# Some of the datas don't have adj matrix\n",
    "num_node_features = next(data.x.shape[1] for data in data_list if data.x is not None)\n",
    "\n",
    "hidden_channels = 64\n",
    "\n",
    "labels = [data.y.item() for data in data_list]  # 提取所有樣本的標籤\n",
    "class_weights = compute_class_weight('balanced', classes=np.unique(labels), y=labels)\n",
    "class_weights = torch.tensor(class_weights, dtype=torch.float).to(device)\n",
    "\n",
    "model = Net_Alex(num_node_features, hidden_channels).to(device)\n",
    "criterion = nn.CrossEntropyLoss()\n",
    "optimizer = torch.optim.Adam(model.parameters(), lr=0.001)\n",
    "\n",
    "num_epochs = 25"
   ]
  },
  {
   "cell_type": "code",
   "execution_count": 7,
   "id": "7c64ea11-1985-4b8f-bf7f-95e43b269bdf",
   "metadata": {},
   "outputs": [
    {
     "name": "stdout",
     "output_type": "stream",
     "text": [
      "Epoch 1/25, Train Loss: 1.5419, Train Acc: 0.4456, Val Loss: 1.3361, Val Acc: 0.5295\n",
      "Epoch 2/25, Train Loss: 1.2821, Train Acc: 0.5499, Val Loss: 1.1055, Val Acc: 0.6220\n",
      "Epoch 3/25, Train Loss: 1.1354, Train Acc: 0.6071, Val Loss: 1.0490, Val Acc: 0.6420\n",
      "Epoch 4/25, Train Loss: 1.0279, Train Acc: 0.6541, Val Loss: 0.9885, Val Acc: 0.6623\n",
      "Epoch 5/25, Train Loss: 0.9572, Train Acc: 0.6827, Val Loss: 0.9389, Val Acc: 0.6847\n",
      "Epoch 6/25, Train Loss: 0.8711, Train Acc: 0.7137, Val Loss: 0.8690, Val Acc: 0.7063\n",
      "Epoch 7/25, Train Loss: 0.8179, Train Acc: 0.7232, Val Loss: 0.8144, Val Acc: 0.7230\n",
      "Epoch 8/25, Train Loss: 0.7730, Train Acc: 0.7380, Val Loss: 0.8891, Val Acc: 0.7169\n",
      "Epoch 9/25, Train Loss: 0.7339, Train Acc: 0.7555, Val Loss: 0.8107, Val Acc: 0.7308\n",
      "Epoch 10/25, Train Loss: 0.6909, Train Acc: 0.7688, Val Loss: 0.7913, Val Acc: 0.7442\n",
      "Epoch 11/25, Train Loss: 0.6679, Train Acc: 0.7776, Val Loss: 0.7857, Val Acc: 0.7198\n",
      "Epoch 12/25, Train Loss: 0.6106, Train Acc: 0.7929, Val Loss: 0.7585, Val Acc: 0.7495\n",
      "Epoch 13/25, Train Loss: 0.5854, Train Acc: 0.8042, Val Loss: 0.7884, Val Acc: 0.7552\n",
      "Epoch 14/25, Train Loss: 0.5648, Train Acc: 0.8128, Val Loss: 0.7852, Val Acc: 0.7580\n",
      "Epoch 15/25, Train Loss: 0.5487, Train Acc: 0.8154, Val Loss: 0.8336, Val Acc: 0.7585\n",
      "Epoch 16/25, Train Loss: 0.5095, Train Acc: 0.8307, Val Loss: 0.8127, Val Acc: 0.7450\n",
      "Epoch 17/25, Train Loss: 0.4985, Train Acc: 0.8360, Val Loss: 0.8290, Val Acc: 0.7597\n",
      "Epoch 18/25, Train Loss: 0.4818, Train Acc: 0.8428, Val Loss: 0.7310, Val Acc: 0.7637\n",
      "Epoch 19/25, Train Loss: 0.4167, Train Acc: 0.8588, Val Loss: 0.8652, Val Acc: 0.7613\n",
      "Epoch 20/25, Train Loss: 0.3995, Train Acc: 0.8661, Val Loss: 0.7904, Val Acc: 0.7707\n",
      "Epoch 21/25, Train Loss: 0.4093, Train Acc: 0.8705, Val Loss: 0.8873, Val Acc: 0.7544\n",
      "Epoch 22/25, Train Loss: 0.3853, Train Acc: 0.8705, Val Loss: 0.8948, Val Acc: 0.7658\n",
      "Epoch 23/25, Train Loss: 0.3548, Train Acc: 0.8825, Val Loss: 0.8957, Val Acc: 0.7479\n",
      "Epoch 24/25, Train Loss: 0.3395, Train Acc: 0.8925, Val Loss: 0.9200, Val Acc: 0.7637\n",
      "Epoch 25/25, Train Loss: 0.3273, Train Acc: 0.8970, Val Loss: 0.9277, Val Acc: 0.7658\n"
     ]
    }
   ],
   "source": [
    "# Initialize variables for cumulative predictions and labels\n",
    "cumulative_preds = []\n",
    "cumulative_labels = []\n",
    "\n",
    "for epoch in range(1, num_epochs + 1):\n",
    "    # Initialize epoch tracking variables\n",
    "    model.train()\n",
    "    total_loss = 0\n",
    "    correct = 0\n",
    "\n",
    "    # Training phase\n",
    "    for batch in train_loader:\n",
    "        batch = batch.to(device)\n",
    "\n",
    "        x = batch.x\n",
    "        edge_index = batch.edge_index\n",
    "        edge_weight = batch.edge_weight\n",
    "        image_features = batch.image_features\n",
    "        batch_y = batch.y\n",
    "\n",
    "        optimizer.zero_grad()\n",
    "        \n",
    "        out = model(x, edge_index, edge_weight, batch.batch, image_features)\n",
    "        loss = criterion(out, batch_y)\n",
    "        loss.backward()\n",
    "        optimizer.step()\n",
    "        total_loss += loss.item()\n",
    "\n",
    "        _, pred = out.max(dim=1)\n",
    "        correct += (pred == batch_y).sum().item()\n",
    "\n",
    "    train_loss = total_loss / len(train_loader)\n",
    "    train_accuracy = correct / len(train_data)\n",
    "\n",
    "    # Validation phase\n",
    "    model.eval()\n",
    "    val_loss = 0\n",
    "    val_correct = 0\n",
    "    epoch_preds = []\n",
    "    epoch_labels = []\n",
    "    \n",
    "    with torch.no_grad():\n",
    "        \n",
    "        for batch in val_loader:\n",
    "            batch = batch.to(device)\n",
    "\n",
    "            x = batch.x\n",
    "            edge_index = batch.edge_index\n",
    "            edge_weight = batch.edge_weight\n",
    "            image_features = batch.image_features\n",
    "            batch_y = batch.y\n",
    "\n",
    "            out = model(x, edge_index, edge_weight, batch.batch, image_features)\n",
    "            loss = criterion(out, batch_y)\n",
    "            val_loss += loss.item()\n",
    "\n",
    "            _, pred = out.max(dim=1)\n",
    "            val_correct += (pred == batch_y).sum().item()\n",
    "\n",
    "            # Collect predictions and labels for this epoch\n",
    "            epoch_preds.extend(pred.cpu().numpy())\n",
    "            epoch_labels.extend(batch_y.cpu().numpy())\n",
    "\n",
    "    avg_val_loss = val_loss / len(val_loader)\n",
    "    val_accuracy = val_correct / len(val_data)\n",
    "\n",
    "    # Logging results for each epoch\n",
    "    print(f'Epoch {epoch}/{num_epochs}, Train Loss: {train_loss:.4f}, Train Acc: {train_accuracy:.4f}, '\n",
    "          f'Val Loss: {avg_val_loss:.4f}, Val Acc: {val_accuracy:.4f}')\n",
    "    \n",
    "    # Accumulate all predictions and labels across epochs\n",
    "    cumulative_preds.extend(epoch_preds)\n",
    "    cumulative_labels.extend(epoch_labels)"
   ]
  },
  {
   "cell_type": "code",
   "execution_count": 8,
   "id": "7f44ff66-b239-4573-b941-840b1771f85f",
   "metadata": {},
   "outputs": [
    {
     "data": {
      "image/png": "[encoded data removed]",
      "text/plain": [
       "<Figure size 800x600 with 2 Axes>"
      ]
     },
     "metadata": {},
     "output_type": "display_data"
    }
   ],
   "source": [
    "# Confusion matrix\n",
    "final_cm = confusion_matrix(cumulative_labels, cumulative_preds)\n",
    "\n",
    "plt.figure(figsize=(8, 6))\n",
    "sns.heatmap(final_cm, annot=True, fmt=\"d\", cmap=\"Blues\", xticklabels=range(7), yticklabels=range(7))\n",
    "plt.xlabel('Predicted')\n",
    "plt.ylabel('True')\n",
    "plt.title('Final Confusion Matrix (Validation) After 20 Epochs')\n",
    "plt.show()\n"
   ]
  },
  {
   "cell_type": "code",
   "execution_count": 9,
   "id": "eec11bed",
   "metadata": {},
   "outputs": [],
   "source": [
    "torch.save(model, '0_25_70.pth')"
   ]
  }
 ],
 "metadata": {
  "kernelspec": {
   "display_name": "Python 3 (ipykernel)",
   "language": "python",
   "name": "python3"
  },
  "language_info": {
   "codemirror_mode": {
    "name": "ipython",
    "version": 3
   },
   "file_extension": ".py",
   "mimetype": "text/x-python",
   "name": "python",
   "nbconvert_exporter": "python",
   "pygments_lexer": "ipython3",
   "version": "3.11.6"
  }
 },
 "nbformat": 4,
 "nbformat_minor": 5
}
